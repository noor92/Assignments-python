{
 "cells": [
  {
   "cell_type": "markdown",
   "metadata": {},
   "source": [
    "# ASSIGNMENT #01"
   ]
  },
  {
   "cell_type": "markdown",
   "metadata": {},
   "source": [
    "NAME : Noor Fatima "
   ]
  },
  {
   "cell_type": "markdown",
   "metadata": {},
   "source": [
    "# Question #01. \n",
    "**Age Assignments Based on the Riddle**\n",
    "\n",
    "   - **Problem Statement:** Write a program to solve this age-related riddle!\n",
    "     Anton, Beth, Chen, Drew, and Ethan are all friends. Their ages are as follows:\n",
    "     - Anton is 21 years old.\n",
    "     - Beth is 6 years older than Anton.\n",
    "     - Chen is 20 years older than Beth.\n",
    "     - Drew is as old as Chen's age plus Anton's age.\n",
    "     - Ethan is the same age as Chen.\n",
    "   - Your code should store each person's age to a variable and print their names and ages at the end.\n",
    "     ```python\n",
    "     Anton is 3\n",
    "     Beth is 4\n",
    "     Chen is 5\n",
    "     Drew is 6\n",
    "     Ethan is 7\n",
    "     "
   ]
  },
  {
   "cell_type": "code",
   "execution_count": 1,
   "metadata": {},
   "outputs": [
    {
     "name": "stdout",
     "output_type": "stream",
     "text": [
      "Anthon is 21\n",
      "Beth is 27\n",
      "Chen is 47\n",
      "Drew is 68\n",
      "Ethan is 47\n"
     ]
    }
   ],
   "source": [
    "Anthon_age = 21\n",
    "Beth_age = Anthon_age + 6\n",
    "Chen_age = Beth_age + 20\n",
    "Drew_age = Chen_age + Anthon_age\n",
    "Ethan_age = Chen_age\n",
    "\n",
    "print(f\"Anthon is {Anthon_age}\")\n",
    "print(f\"Beth is {Beth_age}\")\n",
    "print(f\"Chen is {Chen_age}\")\n",
    "print(f\"Drew is {Drew_age}\")\n",
    "print(f\"Ethan is {Ethan_age}\")\n",
    " "
   ]
  },
  {
   "cell_type": "markdown",
   "metadata": {},
   "source": [
    "# Question #02\n",
    "**Formatted String Interpolation**\n",
    "\n",
    "   - **Task:** Given the variables `name`, `age`, and `city`, use f-strings to construct a sentence that describes a person using these variables.\n",
    "     ```python\n",
    "     name:str = \"Alice\"\n",
    "     age:int = 30\n",
    "     city:str = \"New York\"\n",
    "     ```\n",
    "   - **Instructions:** Use an f-string to create a sentence in the format: `\"Alice is 30 years old and lives in New York.\"`\n",
    "   - **Expected Output:**\n",
    "     ```\n",
    "     Alice is 30 years old and lives in New York."
   ]
  },
  {
   "cell_type": "code",
   "execution_count": 4,
   "metadata": {},
   "outputs": [
    {
     "name": "stdout",
     "output_type": "stream",
     "text": [
      "Alice is 30 years old and lives in New York.\n"
     ]
    }
   ],
   "source": [
    "Name:str = \"Alice\"\n",
    "Age:int = 30\n",
    "City:str =\"New York\"\n",
    "Sentence = f\"{Name} is {Age} years old and lives in {City}.\"\n",
    "print(Sentence)"
   ]
  },
  {
   "cell_type": "markdown",
   "metadata": {},
   "source": [
    "# Question #03\n",
    "**String Manipulation**\n",
    "\n",
    "   - **Task:** Given the string `s`, use string methods to:\n",
    "     - **Capitalize the first letter:** make the first character uppercase and the rest of the string lowercase.\n",
    "     - **Convert to uppercase:** change all characters in the string to uppercase.\n",
    "     - **Convert to lowercase:** change all characters in the string to lowercase.\n",
    "     ```python\n",
    "     s:str = \"hElLo WoRlD\"\n",
    "     ```\n",
    "   - **Expected Output:**\n",
    "     ```\n",
    "     Hello world\n",
    "     HELLO WORLD\n",
    "     hello world\n",
    "     ```"
   ]
  },
  {
   "cell_type": "code",
   "execution_count": 7,
   "metadata": {},
   "outputs": [
    {
     "name": "stdout",
     "output_type": "stream",
     "text": [
      "Hello world\n",
      "HELLO WORLD\n",
      "hello world\n"
     ]
    }
   ],
   "source": [
    "s:str = \"hElLo WoRlD\"\n",
    "print(s.capitalize())\n",
    "print(s.upper())\n",
    "print(s.lower())\n"
   ]
  },
  {
   "cell_type": "markdown",
   "metadata": {},
   "source": [
    "# Question #04\n",
    "**Substring Search**\n",
    "\n",
    "   - **Task:** Given the string `s`, use string methods to:\n",
    "     - **Find the index of \"fox\":** get the starting index of the substring \"fox\". If \"fox\" is not found, it should return -1.\n",
    "     - **Count occurrences of \"the\":** Use the string's built-in method to count how many times the substring \"the\" appears in the string.\n",
    "     ```python\n",
    "     s:str =\"the quick brown fox jumps over the lazy dog\"\n",
    "     ```\n",
    "   - **Expected Output:**\n",
    "     ```\n",
    "     index of 'fox' is 16\n",
    "     'the' appears 2 times\n",
    "\n"
   ]
  },
  {
   "cell_type": "code",
   "execution_count": 8,
   "metadata": {},
   "outputs": [
    {
     "name": "stdout",
     "output_type": "stream",
     "text": [
      "index of 'fox' is 16\n",
      "'the' appears 2 times\n"
     ]
    }
   ],
   "source": [
    "\n",
    "s:str = \"the quick brown fox jumps over the lazy dog\"\n",
    "\n",
    "index_of_fox = s.find(\"fox\")\n",
    "count_of_the = s.count(\"the\")\n",
    "\n",
    "print(f\"index of 'fox' is {index_of_fox}\")\n",
    "print(f\"'the' appears {count_of_the} times\")\n"
   ]
  },
  {
   "cell_type": "markdown",
   "metadata": {},
   "source": [
    "# Question #05\n",
    " **String Replacement**\n",
    "\n",
    "   - **Task:** Given the string `s`, use string methods to:\n",
    "     - **Replace \"Python\" with \"Java\":** substitute \"Python\" with \"Java\".\n",
    "     ```python\n",
    "     s:str =\"I love programming in Python\"\n",
    "     ```\n",
    "   - **Expected Output:**\n",
    "     ```\n",
    "     I love programming in Java"
   ]
  },
  {
   "cell_type": "code",
   "execution_count": 9,
   "metadata": {},
   "outputs": [
    {
     "name": "stdout",
     "output_type": "stream",
     "text": [
      "I love programming in Java\n"
     ]
    }
   ],
   "source": [
    "s:str =\"I love programming in Python\"\n",
    "print(s.replace(\"Python\",\"Java\"))"
   ]
  },
  {
   "cell_type": "markdown",
   "metadata": {},
   "source": [
    "# Question #06\n",
    " **String Splitting and Joining**\n",
    "\n",
    "   - **Task:** Given the string `s`, use string methods to:\n",
    "     - **Split into a list:** break the string into a list of substrings based on the delimiter `,`.\n",
    "     - **Join with spaces:** combine the list of substrings back into a single string, with each element separated by a space.\n",
    "     ```python\n",
    "     s:str =\"apple,banana,cherry,dates\"\n",
    "     ```\n",
    "   - **Expected Output:**\n",
    "     ```\n",
    "     [\"apple\", \"banana\", \"cherry\", \"dates\"]\n",
    "     apple banana cherry dates"
   ]
  },
  {
   "cell_type": "code",
   "execution_count": 15,
   "metadata": {},
   "outputs": [
    {
     "name": "stdout",
     "output_type": "stream",
     "text": [
      "['apple', 'banana', 'cherry', 'dates']\n",
      "apple banana cherry dates\n"
     ]
    }
   ],
   "source": [
    "\n",
    "s = \"apple,banana,cherry,dates\"\n",
    "substrings = s.split(',')\n",
    "joined_string = ' '.join(substrings)\n",
    "\n",
    "print(substrings)      \n",
    "print(joined_string)  \n",
    "\n",
    "  \n"
   ]
  },
  {
   "cell_type": "markdown",
   "metadata": {},
   "source": [
    "# Question #07\n",
    "**String Stripping and Justifying**\n",
    "\n",
    "   - **Task:** Given the string `s`, use string methods to:\n",
    "     - **Remove leading/trailing spaces:** remove all leading and trailing whitespace characters from the string.\n",
    "     - **Left justify with '\\*':** left justify the string within a field of width 20, using `*` as the fill character.\n",
    "     - **Right justify with '\\*':** right justify the string within a field of width 20, using `*` as the fill character.\n",
    "     ```python\n",
    "     s:str =\"   Python is fun!   \"\n",
    "     ```\n",
    "   - **Expected Output:**\n",
    "     ```\n",
    "     Python is fun!\n",
    "     Python is fun!*****\n",
    "     *****Python is fun!"
   ]
  },
  {
   "cell_type": "code",
   "execution_count": 1,
   "metadata": {},
   "outputs": [
    {
     "name": "stdout",
     "output_type": "stream",
     "text": [
      "Python is fun!\n",
      "Python is fun!******\n",
      "******Python is fun!\n"
     ]
    }
   ],
   "source": [
    "s = \"   Python is fun!   \"\n",
    "\n",
    "stripped_string = s.strip()\n",
    "left_justified_string = stripped_string.ljust(20, '*')\n",
    "right_justified_string = stripped_string.rjust(20, '*')\n",
    "\n",
    "print(stripped_string)\n",
    "print(left_justified_string)\n",
    "print(right_justified_string)\n"
   ]
  },
  {
   "cell_type": "markdown",
   "metadata": {},
   "source": [
    "# Question #08\n",
    " **Convert an integer to its binary representation**\n",
    "\n",
    "   - **Task:** Given an integer `num`\n",
    "     - Obtain the binary representation of `num`\n",
    "     ```python\n",
    "     num:int = 45\n",
    "     ```\n",
    "   - **Expected Output:**\n",
    "     ```\n",
    "     Binary representation : 0b101101"
   ]
  },
  {
   "cell_type": "code",
   "execution_count": 3,
   "metadata": {},
   "outputs": [
    {
     "name": "stdout",
     "output_type": "stream",
     "text": [
      "Binary representation: 0b101101\n"
     ]
    }
   ],
   "source": [
    "num = 45\n",
    "binary_representation = bin(num)\n",
    "print(f\"Binary representation: {binary_representation}\")"
   ]
  },
  {
   "cell_type": "markdown",
   "metadata": {},
   "source": [
    "# Question #09\n",
    "**Calculate Powers of Numbers.**\n",
    "\n",
    "   - **Task:** Given two integers `base` and `exponent`\n",
    "     - Compute `base` raised to the power of `exponent`.\n",
    "     ```python\n",
    "     base:int = 3\n",
    "     exponent:int = 4\n",
    "     ```\n",
    "   - **Expected Output:**\n",
    "     ```\n",
    "     Power result: 81"
   ]
  },
  {
   "cell_type": "code",
   "execution_count": 7,
   "metadata": {},
   "outputs": [
    {
     "name": "stdout",
     "output_type": "stream",
     "text": [
      "Power result: 81\n"
     ]
    }
   ],
   "source": [
    "base:int = 3\n",
    "exponent:int = 4\n",
    "power = base*base*base*base\n",
    "print(f\"Power result: {power}\" )"
   ]
  },
  {
   "cell_type": "markdown",
   "metadata": {},
   "source": [
    "# Question #10\n",
    "**Round floating-point numbers**\n",
    "\n",
    " - **Task:** Given a floating-point number `value`\n",
    "- Round `value` to the nearest integer.\n",
    " - Round `value` to two decimal places.\n",
    "  ```python\n",
    "  value:float = 12.34567\n",
    "  ```\n",
    "- **Expected Output:**\n",
    "  ```\n",
    "Rounded to nearest integer: 12\n",
    "\n",
    "Rounded to two decimal places: 12.35"
   ]
  },
  {
   "cell_type": "code",
   "execution_count": 13,
   "metadata": {},
   "outputs": [
    {
     "name": "stdout",
     "output_type": "stream",
     "text": [
      "Rounded to nearest integer: 12\n",
      "Rounded to two decimal places: 12.35\n"
     ]
    }
   ],
   "source": [
    "value:float = 12.34567\n",
    "nearest_integer = value.__round__()\n",
    "decimal_places = value.__round__(2)\n",
    "print(f\"Rounded to nearest integer: {nearest_integer}\")\n",
    "print(f\"Rounded to two decimal places: {decimal_places}\")"
   ]
  }
 ],
 "metadata": {
  "kernelspec": {
   "display_name": "Python 3",
   "language": "python",
   "name": "python3"
  },
  "language_info": {
   "codemirror_mode": {
    "name": "ipython",
    "version": 3
   },
   "file_extension": ".py",
   "mimetype": "text/x-python",
   "name": "python",
   "nbconvert_exporter": "python",
   "pygments_lexer": "ipython3",
   "version": "3.11.6"
  }
 },
 "nbformat": 4,
 "nbformat_minor": 2
}
